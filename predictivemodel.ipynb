{
 "cells": [
  {
   "cell_type": "code",
   "execution_count": 2,
   "id": "9e37d6b3",
   "metadata": {},
   "outputs": [],
   "source": [
    "import pandas as pd\n",
    "import numpy as np\n",
    "from sklearn.model_selection import train_test_split, StratifiedKFold, cross_val_score\n",
    "from sklearn.preprocessing import StandardScaler\n",
    "from sklearn.ensemble import RandomForestClassifier\n",
    "from sklearn.tree import DecisionTreeClassifier  # <-- Correct import\n",
    "from sklearn.linear_model import LogisticRegression\n",
    "from sklearn.svm import SVC\n",
    "from xgboost import XGBClassifier\n",
    "from sklearn.neural_network import MLPClassifier\n",
    "from sklearn.metrics import (\n",
    "    classification_report, confusion_matrix, accuracy_score, precision_score,\n",
    "    recall_score, f1_score, roc_auc_score\n",
    ")\n",
    "import matplotlib.pyplot as plt\n",
    "import seaborn as sns\n",
    "\n"
   ]
  },
  {
   "cell_type": "code",
   "execution_count": 3,
   "id": "0e2e82e8",
   "metadata": {},
   "outputs": [],
   "source": [
    "# Load data\n",
    "df = pd.read_csv(\"data/processed/tiktok_processed.csv\")\n",
    "\n",
    "# Ensure viral label exists\n",
    "if 'is_viral_plays' not in df.columns:\n",
    "    df['is_viral_plays'] = (df['plays'] > df['plays'].quantile(0.98)).astype(int)\n",
    "\n",
    "# Drop columns not useful for modeling\n",
    "drop_cols = [\n",
    "    'video_id', 'create_time', 'description', 'hashtags',\n",
    "    'plays', 'likes', 'comments', 'shares', 'fetch_time'\n",
    "]\n",
    "df = df.drop(columns=[col for col in drop_cols if col in df.columns], errors='ignore')\n",
    "\n",
    "# Separate features and target\n",
    "X = df.drop(columns=['is_viral_plays'])\n",
    "y = df['is_viral_plays']\n",
    "\n",
    "# One-hot encode categoricals\n",
    "X = pd.get_dummies(X, drop_first=True)\n",
    "\n",
    "# Stratified train-test split\n",
    "X_train, X_test, y_train, y_test = train_test_split(\n",
    "    X, y, test_size=0.2, stratify=y, random_state=42\n",
    ")\n",
    "\n",
    "# Scale numeric features\n",
    "scaler = StandardScaler()\n",
    "X_train_scaled = scaler.fit_transform(X_train)\n",
    "X_test_scaled = scaler.transform(X_test)\n",
    "\n"
   ]
  },
  {
   "cell_type": "code",
   "execution_count": 4,
   "id": "b0739b4b",
   "metadata": {},
   "outputs": [],
   "source": [
    "# Define models (including Decision Tree)\n",
    "models = [\n",
    "    (LogisticRegression(max_iter=1000, class_weight='balanced'), \"Logistic Regression\"),\n",
    "    (DecisionTreeClassifier(class_weight='balanced', random_state=42), \"Decision Tree\"),\n",
    "    (RandomForestClassifier(n_estimators=100, class_weight='balanced', random_state=42), \"Random Forest\"),\n",
    "    (XGBClassifier(use_label_encoder=False, eval_metric='logloss', random_state=42), \"XGBoost\"),\n",
    "    (SVC(kernel='rbf', probability=True, class_weight='balanced'), \"SVM\"),\n",
    "    (MLPClassifier(hidden_layer_sizes=(64, 32), max_iter=300, random_state=42), \"Neural Network\")\n",
    "]\n",
    "\n",
    "# Model evaluation function with cross-validation\n",
    "def evaluate_model(model, model_name):\n",
    "    model.fit(X_train_scaled, y_train)\n",
    "    y_pred = model.predict(X_test_scaled)\n",
    "    y_prob = model.predict_proba(X_test_scaled)[:, 1] if hasattr(model, \"predict_proba\") else y_pred\n",
    "\n",
    "    # Stratified 5-fold cross-validation on training set\n",
    "    skf = StratifiedKFold(n_splits=5, shuffle=True, random_state=42)\n",
    "    cv_f1 = cross_val_score(model, X_train_scaled, y_train, cv=skf, scoring='f1').mean()\n",
    "\n",
    "    metrics = {\n",
    "        \"Model\": model_name,\n",
    "        \"Accuracy\": accuracy_score(y_test, y_pred),\n",
    "        \"Precision\": precision_score(y_test, y_pred),\n",
    "        \"Recall\": recall_score(y_test, y_pred),\n",
    "        \"F1 Score\": f1_score(y_test, y_pred),\n",
    "        \"ROC AUC\": roc_auc_score(y_test, y_prob),\n",
    "        \"CV F1 (train)\": cv_f1\n",
    "    }\n",
    "    return metrics\n",
    "\n"
   ]
  },
  {
   "cell_type": "code",
   "execution_count": null,
   "id": "f4221906",
   "metadata": {},
   "outputs": [
    {
     "name": "stdout",
     "output_type": "stream",
     "text": [
      "Training Logistic Regression...\n",
      "Training Decision Tree...\n",
      "Training Random Forest...\n"
     ]
    },
    {
     "name": "stderr",
     "output_type": "stream",
     "text": [
      "c:\\Users\\eisra\\miniconda3\\envs\\wif3009\\Lib\\site-packages\\sklearn\\metrics\\_classification.py:1565: UndefinedMetricWarning: Precision is ill-defined and being set to 0.0 due to no predicted samples. Use `zero_division` parameter to control this behavior.\n",
      "  _warn_prf(average, modifier, f\"{metric.capitalize()} is\", len(result))\n"
     ]
    },
    {
     "name": "stdout",
     "output_type": "stream",
     "text": [
      "Training XGBoost...\n"
     ]
    },
    {
     "name": "stderr",
     "output_type": "stream",
     "text": [
      "c:\\Users\\eisra\\miniconda3\\envs\\wif3009\\Lib\\site-packages\\xgboost\\training.py:183: UserWarning: [13:08:17] WARNING: C:\\actions-runner\\_work\\xgboost\\xgboost\\src\\learner.cc:738: \n",
      "Parameters: { \"use_label_encoder\" } are not used.\n",
      "\n",
      "  bst.update(dtrain, iteration=i, fobj=obj)\n",
      "c:\\Users\\eisra\\miniconda3\\envs\\wif3009\\Lib\\site-packages\\xgboost\\training.py:183: UserWarning: [13:08:28] WARNING: C:\\actions-runner\\_work\\xgboost\\xgboost\\src\\learner.cc:738: \n",
      "Parameters: { \"use_label_encoder\" } are not used.\n",
      "\n",
      "  bst.update(dtrain, iteration=i, fobj=obj)\n",
      "c:\\Users\\eisra\\miniconda3\\envs\\wif3009\\Lib\\site-packages\\xgboost\\training.py:183: UserWarning: [13:08:37] WARNING: C:\\actions-runner\\_work\\xgboost\\xgboost\\src\\learner.cc:738: \n",
      "Parameters: { \"use_label_encoder\" } are not used.\n",
      "\n",
      "  bst.update(dtrain, iteration=i, fobj=obj)\n",
      "c:\\Users\\eisra\\miniconda3\\envs\\wif3009\\Lib\\site-packages\\xgboost\\training.py:183: UserWarning: [13:08:45] WARNING: C:\\actions-runner\\_work\\xgboost\\xgboost\\src\\learner.cc:738: \n",
      "Parameters: { \"use_label_encoder\" } are not used.\n",
      "\n",
      "  bst.update(dtrain, iteration=i, fobj=obj)\n",
      "c:\\Users\\eisra\\miniconda3\\envs\\wif3009\\Lib\\site-packages\\xgboost\\training.py:183: UserWarning: [13:08:54] WARNING: C:\\actions-runner\\_work\\xgboost\\xgboost\\src\\learner.cc:738: \n",
      "Parameters: { \"use_label_encoder\" } are not used.\n",
      "\n",
      "  bst.update(dtrain, iteration=i, fobj=obj)\n",
      "c:\\Users\\eisra\\miniconda3\\envs\\wif3009\\Lib\\site-packages\\xgboost\\training.py:183: UserWarning: [13:09:03] WARNING: C:\\actions-runner\\_work\\xgboost\\xgboost\\src\\learner.cc:738: \n",
      "Parameters: { \"use_label_encoder\" } are not used.\n",
      "\n",
      "  bst.update(dtrain, iteration=i, fobj=obj)\n"
     ]
    },
    {
     "name": "stdout",
     "output_type": "stream",
     "text": [
      "Training SVM...\n"
     ]
    }
   ],
   "source": [
    "# Train and evaluate all models\n",
    "results = []\n",
    "for model, name in models:\n",
    "    print(f\"Training {name}...\")\n",
    "    result = evaluate_model(model, name)\n",
    "    results.append(result)\n",
    "\n",
    "# Display results\n",
    "results_df = pd.DataFrame(results)\n",
    "results_df = results_df.sort_values(by=\"F1 Score\", ascending=False)\n",
    "print(\"\\n📊 Model Performance Comparison:\")\n",
    "print(results_df)\n",
    "\n"
   ]
  },
  {
   "cell_type": "code",
   "execution_count": null,
   "id": "4d3040f7",
   "metadata": {},
   "outputs": [],
   "source": [
    "# Plot performance\n",
    "plt.figure(figsize=(12, 7))\n",
    "sns.barplot(data=results_df.melt(id_vars=\"Model\"), x=\"value\", y=\"Model\", hue=\"variable\")\n",
    "plt.title(\"Model Performance Metrics\")\n",
    "plt.xlabel(\"Score\")\n",
    "plt.ylabel(\"Model\")\n",
    "plt.tight_layout()\n",
    "plt.show()\n",
    "\n",
    "# Train and show feature importance for best tree-based model\n",
    "best_tree_model = RandomForestClassifier(n_estimators=100, class_weight='balanced', random_state=42)\n",
    "best_tree_model.fit(X_train_scaled, y_train)\n",
    "importances = best_tree_model.feature_importances_\n",
    "feat_names = X.columns\n",
    "feat_imp_df = pd.DataFrame({'feature': feat_names, 'importance': importances})\n",
    "feat_imp_df = feat_imp_df.sort_values(by='importance', ascending=False)\n",
    "\n",
    "plt.figure(figsize=(10, 6))\n",
    "sns.barplot(data=feat_imp_df.head(20), x='importance', y='feature', palette='viridis')\n",
    "plt.title(\"Top 20 Feature Importances (Random Forest)\")\n",
    "plt.tight_layout()\n",
    "plt.show()\n",
    "\n"
   ]
  },
  {
   "cell_type": "code",
   "execution_count": null,
   "id": "ebff742e",
   "metadata": {},
   "outputs": [],
   "source": [
    "# Classification report and confusion matrix for best model\n",
    "y_pred = best_tree_model.predict(X_test_scaled)\n",
    "print(\"Classification Report (Random Forest):\")\n",
    "print(classification_report(y_test, y_pred))\n",
    "\n",
    "cm = confusion_matrix(y_test, y_pred)\n",
    "sns.heatmap(cm, annot=True, fmt='d', cmap='Blues', xticklabels=['Not Viral', 'Viral'], yticklabels=['Not Viral', 'Viral'])\n",
    "plt.title(\"Confusion Matrix (Random Forest)\")\n",
    "plt.xlabel(\"Predicted\")\n",
    "plt.ylabel(\"Actual\")\n",
    "plt.show()"
   ]
  },
  {
   "cell_type": "code",
   "execution_count": null,
   "id": "8ccaee2c",
   "metadata": {},
   "outputs": [],
   "source": []
  }
 ],
 "metadata": {
  "kernelspec": {
   "display_name": "wif3009",
   "language": "python",
   "name": "python3"
  },
  "language_info": {
   "codemirror_mode": {
    "name": "ipython",
    "version": 3
   },
   "file_extension": ".py",
   "mimetype": "text/x-python",
   "name": "python",
   "nbconvert_exporter": "python",
   "pygments_lexer": "ipython3",
   "version": "3.11.11"
  }
 },
 "nbformat": 4,
 "nbformat_minor": 5
}
