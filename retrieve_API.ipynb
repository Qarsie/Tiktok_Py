{
 "cells": [
  {
   "cell_type": "code",
   "execution_count": 1,
   "id": "13eb0e14-54b2-43ac-9047-877ffb240edb",
   "metadata": {},
   "outputs": [
    {
     "name": "stdout",
     "output_type": "stream",
     "text": [
      "Requirement already satisfied: pandas in c:\\users\\eisra\\miniconda3\\envs\\wif3009\\lib\\site-packages (2.2.3)\n",
      "Requirement already satisfied: requests in c:\\users\\eisra\\miniconda3\\envs\\wif3009\\lib\\site-packages (2.32.3)\n",
      "Requirement already satisfied: numpy>=1.23.2 in c:\\users\\eisra\\miniconda3\\envs\\wif3009\\lib\\site-packages (from pandas) (2.1.3)\n",
      "Requirement already satisfied: python-dateutil>=2.8.2 in c:\\users\\eisra\\miniconda3\\envs\\wif3009\\lib\\site-packages (from pandas) (2.9.0.post0)\n",
      "Requirement already satisfied: pytz>=2020.1 in c:\\users\\eisra\\miniconda3\\envs\\wif3009\\lib\\site-packages (from pandas) (2025.2)\n",
      "Requirement already satisfied: tzdata>=2022.7 in c:\\users\\eisra\\miniconda3\\envs\\wif3009\\lib\\site-packages (from pandas) (2025.2)\n",
      "Requirement already satisfied: charset-normalizer<4,>=2 in c:\\users\\eisra\\miniconda3\\envs\\wif3009\\lib\\site-packages (from requests) (3.4.1)\n",
      "Requirement already satisfied: idna<4,>=2.5 in c:\\users\\eisra\\miniconda3\\envs\\wif3009\\lib\\site-packages (from requests) (2.10)\n",
      "Requirement already satisfied: urllib3<3,>=1.21.1 in c:\\users\\eisra\\miniconda3\\envs\\wif3009\\lib\\site-packages (from requests) (2.3.0)\n",
      "Requirement already satisfied: certifi>=2017.4.17 in c:\\users\\eisra\\miniconda3\\envs\\wif3009\\lib\\site-packages (from requests) (2025.1.31)\n",
      "Requirement already satisfied: six>=1.5 in c:\\users\\eisra\\miniconda3\\envs\\wif3009\\lib\\site-packages (from python-dateutil>=2.8.2->pandas) (1.17.0)\n",
      "Note: you may need to restart the kernel to use updated packages.\n"
     ]
    }
   ],
   "source": [
    "pip install pandas requests\n"
   ]
  },
  {
   "cell_type": "code",
   "execution_count": null,
   "id": "1a950313-e39a-4251-ace1-999a2a28015f",
   "metadata": {},
   "outputs": [],
   "source": [
    "pip install --upgrade TikTokApi"
   ]
  },
  {
   "cell_type": "code",
   "execution_count": null,
   "id": "ca2b0738-a29e-4c89-9bb0-53c60e2ba90d",
   "metadata": {},
   "outputs": [],
   "source": [
    "pip install --upgrade TikTokApi playwright pandas nest_asyncio\n",
    "playwright install"
   ]
  },
  {
   "cell_type": "code",
   "execution_count": 4,
   "id": "5dec591e-39dd-45e2-9c69-6d42610df7f1",
   "metadata": {},
   "outputs": [
    {
     "name": "stdout",
     "output_type": "stream",
     "text": [
      "Fetching trending TikTok videos...\n",
      "Error fetching batch: 429 Client Error: Too Many Requests for url: https://tiktok-api23.p.rapidapi.com/api/post/trending?count=8&cursor=0\n",
      "\n",
      "Successfully fetched 0 videos\n"
     ]
    },
    {
     "data": {
      "text/html": [
       "<div>\n",
       "<style scoped>\n",
       "    .dataframe tbody tr th:only-of-type {\n",
       "        vertical-align: middle;\n",
       "    }\n",
       "\n",
       "    .dataframe tbody tr th {\n",
       "        vertical-align: top;\n",
       "    }\n",
       "\n",
       "    .dataframe thead th {\n",
       "        text-align: right;\n",
       "    }\n",
       "</style>\n",
       "<table border=\"1\" class=\"dataframe\">\n",
       "  <thead>\n",
       "    <tr style=\"text-align: right;\">\n",
       "      <th></th>\n",
       "    </tr>\n",
       "  </thead>\n",
       "  <tbody>\n",
       "  </tbody>\n",
       "</table>\n",
       "</div>"
      ],
      "text/plain": [
       "Empty DataFrame\n",
       "Columns: []\n",
       "Index: []"
      ]
     },
     "metadata": {},
     "output_type": "display_data"
    },
    {
     "name": "stdout",
     "output_type": "stream",
     "text": [
      "\n",
      "Data saved to 'tiktok_trending26_eq.csv'\n"
     ]
    }
   ],
   "source": [
    "import requests\n",
    "import pandas as pd\n",
    "\n",
    "# Configuration\n",
    "RAPIDAPI_KEY = \"f1748cf772mshf37bd83f9aa9cf2p115781jsn8b48ae67e28d\"   #change to your key\n",
    "RAPIDAPI_HOST = \"tiktok-api23.p.rapidapi.com\"\n",
    "BASE_URL = \"https://tiktok-api23.p.rapidapi.com/api/post/trending\"\n",
    "\n",
    "def fetch_multiple_batches(max_results=500):\n",
    "    \"\"\"Fetch multiple batches to get more than 8 results\"\"\"\n",
    "    all_items = []\n",
    "    cursor = \"0\"\n",
    "\n",
    "    while len(all_items) < max_results:\n",
    "        headers = {\n",
    "            \"X-RapidAPI-Host\": RAPIDAPI_HOST,\n",
    "            \"X-RapidAPI-Key\": RAPIDAPI_KEY\n",
    "        }\n",
    "\n",
    "        params = {\n",
    "            \"count\": 8,\n",
    "            \"cursor\": cursor\n",
    "        }\n",
    "\n",
    "        try:\n",
    "            response = requests.get(BASE_URL, headers=headers, params=params)\n",
    "            response.raise_for_status()\n",
    "            data = response.json()\n",
    "\n",
    "            if not data.get('itemList'):\n",
    "                break\n",
    "\n",
    "            all_items.extend(data['itemList'])\n",
    "            cursor = data.get('cursor', \"0\")\n",
    "\n",
    "            # Stop if no more items available\n",
    "            if not data.get('hasMore', False):\n",
    "                break\n",
    "\n",
    "        except Exception as e:\n",
    "            print(f\"Error fetching batch: {e}\")\n",
    "            break\n",
    "\n",
    "    return all_items[:max_results]\n",
    "\n",
    "def process_data(items):\n",
    "    processed = []\n",
    "    for item in items:\n",
    "        processed.append({\n",
    "            \"video_id\": item.get('id'),\n",
    "            \"author\": item.get('author', {}).get('uniqueId'),\n",
    "            \"description\": item.get('desc'),\n",
    "            \"likes\": item.get('stats', {}).get('diggCount'),\n",
    "            \"comments\": item.get('stats', {}).get('commentCount'),\n",
    "            \"shares\": item.get('stats', {}).get('shareCount'),\n",
    "            \"plays\": item.get('stats', {}).get('playCount'),\n",
    "            \"hashtags\": \", \".join([h['title'] for h in item.get('challenges', [])]),\n",
    "            \"music\": item.get('music', {}).get('title'),\n",
    "            \"create_time\": pd.to_datetime(item.get('createTime'), unit='s') if item.get('createTime') else None,\n",
    "            \"video_url\": f\"https://www.tiktok.com/@{item.get('author', {}).get('uniqueId')}/video/{item.get('id')}\"\n",
    "        })\n",
    "    return pd.DataFrame(processed)\n",
    "\n",
    "# Fetch data\n",
    "print(\"Fetching trending TikTok videos...\")\n",
    "items = fetch_multiple_batches(max_results=500)\n",
    "df = process_data(items)\n",
    "\n",
    "print(f\"\\nSuccessfully fetched {len(df)} videos\")\n",
    "display(df.head(10))\n",
    "df.to_csv('tiktok_trending26_eq.csv', index=False)     #rename your file\n",
    "print(\"\\nData saved to 'tiktok_trending26_eq.csv'\")"
   ]
  }
 ],
 "metadata": {
  "kernelspec": {
   "display_name": "wif3009",
   "language": "python",
   "name": "python3"
  },
  "language_info": {
   "codemirror_mode": {
    "name": "ipython",
    "version": 3
   },
   "file_extension": ".py",
   "mimetype": "text/x-python",
   "name": "python",
   "nbconvert_exporter": "python",
   "pygments_lexer": "ipython3",
   "version": "3.11.11"
  }
 },
 "nbformat": 4,
 "nbformat_minor": 5
}
