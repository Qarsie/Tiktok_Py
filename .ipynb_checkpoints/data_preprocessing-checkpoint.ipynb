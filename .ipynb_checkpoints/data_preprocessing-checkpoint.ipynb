{
 "cells": [
  {
   "cell_type": "markdown",
   "id": "1ad75764-2f44-4494-a68f-c5d144dc1b35",
   "metadata": {},
   "source": [
    "### Raw Data "
   ]
  },
  {
   "cell_type": "code",
   "execution_count": 1,
   "id": "ff148078-d537-4669-81c2-7c485e5e8644",
   "metadata": {},
   "outputs": [
    {
     "name": "stdout",
     "output_type": "stream",
     "text": [
      "['tiktok_trending.csv', 'tiktok_trending10.csv', 'tiktok_trending11.csv', 'tiktok_trending12.csv', 'tiktok_trending13_bakhtiar.csv', 'tiktok_trending14_bakhtiar.csv', 'tiktok_trending15_bakhtiar.csv', 'tiktok_trending16_bakhtiar.csv', 'tiktok_trending17_bakhtiar.csv', 'tiktok_trending18_bakhtiar.csv', 'tiktok_trending19_adam.csv', 'tiktok_trending19_bakhtiar.csv', 'tiktok_trending2.csv', 'tiktok_trending20_adam.csv', 'tiktok_trending21_adam.csv', 'tiktok_trending22.csv', 'tiktok_trending22_elvis.csv', 'tiktok_trending23.csv', 'tiktok_trending23_elvis.csv', 'tiktok_trending23_eq.csv', 'tiktok_trending24.csv', 'tiktok_trending24_elvis.csv', 'tiktok_trending24_eq.csv', 'tiktok_trending25.csv', 'tiktok_trending25_elvis.csv', 'tiktok_trending25_eq.csv', 'tiktok_trending26.csv', 'tiktok_trending26_elvis.csv', 'tiktok_trending27_elvis.csv', 'tiktok_trending28_eq.csv', 'tiktok_trending29_eq.csv', 'tiktok_trending3.csv', 'tiktok_trending30_eq.csv', 'tiktok_trending5.csv', 'tiktok_trending6.csv', 'tiktok_trending7.csv', 'tiktok_trending8.csv', 'tiktok_trending9.csv', 'tiktok_trending_addin(1).csv', 'tiktok_trending_addin(2).csv', 'tiktok_trending_addin(3).csv', 'tiktok_trending_addin(4).csv', 'tiktok_trending_addin(5).csv']\n"
     ]
    }
   ],
   "source": [
    "import pandas as pd\n",
    "import os\n",
    "\n",
    "# Get all CSV files in the current directory\n",
    "csv_files = [file for file in os.listdir() if file.endswith('.csv')]\n",
    "print(csv_files)  # optional, to check files\n",
    "\n",
    "# Merge all CSV files into a single DataFrame\n",
    "df = pd.concat([pd.read_csv(file) for file in csv_files], ignore_index=True)\n",
    "\n"
   ]
  },
  {
   "cell_type": "code",
   "execution_count": 2,
   "id": "8d9cb5f8-bc6b-4f39-91ba-eb8aabc539f6",
   "metadata": {},
   "outputs": [
    {
     "name": "stdout",
     "output_type": "stream",
     "text": [
      "Index(['video_id', 'author', 'description', 'likes', 'comments', 'shares',\n",
      "       'plays', 'hashtags', 'music', 'create_time', 'video_url', 'fetch_time',\n",
      "       'views', 'posted_time'],\n",
      "      dtype='object')\n"
     ]
    }
   ],
   "source": [
    "print(df.columns)"
   ]
  },
  {
   "cell_type": "code",
   "execution_count": 3,
   "id": "26a24719-cd48-4540-8b93-4a7673f6d006",
   "metadata": {},
   "outputs": [],
   "source": [
    "# Save to CSV (optional)\n",
    "df.to_csv(\"raw_data.csv\", index=False, encoding='utf-8')\n",
    "\n",
    "# Save to Excel\n",
    "df.to_excel(\"raw_data.xlsx\", index=False, engine='openpyxl')\n",
    "\n"
   ]
  },
  {
   "cell_type": "code",
   "execution_count": null,
   "id": "33412e81-40b1-4e6d-8e2e-51e68084e730",
   "metadata": {},
   "outputs": [],
   "source": [
    "# Check for duplicates (optional)\n",
    "duplicates = df[df.duplicated()]\n",
    "print(duplicates)\n"
   ]
  },
  {
   "cell_type": "code",
   "execution_count": null,
   "id": "f678928d-10b8-4f08-b1b3-5f5a0b10997f",
   "metadata": {},
   "outputs": [],
   "source": [
    "df"
   ]
  },
  {
   "cell_type": "code",
   "execution_count": null,
   "id": "e6808f10-0cef-48d4-95e8-ac4ef040c504",
   "metadata": {},
   "outputs": [],
   "source": [
    "# Remove duplicates\n",
    "df.drop_duplicates(subset=\"video_id\", inplace=True)"
   ]
  },
  {
   "cell_type": "code",
   "execution_count": null,
   "id": "a9d1aead-f84e-4271-b31e-c1fef8a83cc4",
   "metadata": {},
   "outputs": [],
   "source": [
    "df"
   ]
  },
  {
   "cell_type": "code",
   "execution_count": null,
   "id": "abc9b4a9-9923-4926-a548-2ece52391680",
   "metadata": {},
   "outputs": [],
   "source": [
    "# Fill missing hashtags with empty list as string\n",
    "df[\"hashtags\"] = df[\"hashtags\"].fillna(\"[]\")\n",
    "\n",
    "# Drop rows missing essential metrics\n",
    "df.dropna(subset=[\"description\", \"likes\", \"comments\", \"shares\", \"views\"], inplace=True)\n",
    "\n",
    "# Convert timestamp fields\n",
    "df[\"posted_time\"] = pd.to_datetime(df[\"posted_time\"])\n",
    "df[\"fetch_time\"] = pd.to_datetime(df[\"fetch_time\"])\n"
   ]
  },
  {
   "cell_type": "code",
   "execution_count": null,
   "id": "a71394be-f7e5-499b-85a9-592753eb0fca",
   "metadata": {},
   "outputs": [],
   "source": [
    "df[\"engagement_rate\"] = df[\"total_engagement\"] / df[\"followers\"]\n",
    "# Engagement per view\n",
    "df[\"engagement_rate\"] = df[\"total_engagement\"] / df[\"views\"]\n",
    "df[\"engagement_percentile\"] = df[\"total_engagement\"].rank(pct=True)\n"
   ]
  },
  {
   "cell_type": "code",
   "execution_count": null,
   "id": "6f4a2a9e-1f2e-47f6-b491-2d09dd03803d",
   "metadata": {},
   "outputs": [],
   "source": [
    "df"
   ]
  }
 ],
 "metadata": {
  "kernelspec": {
   "display_name": "wif3009",
   "language": "python",
   "name": "python3"
  },
  "language_info": {
   "codemirror_mode": {
    "name": "ipython",
    "version": 3
   },
   "file_extension": ".py",
   "mimetype": "text/x-python",
   "name": "python",
   "nbconvert_exporter": "python",
   "pygments_lexer": "ipython3",
   "version": "3.11.11"
  }
 },
 "nbformat": 4,
 "nbformat_minor": 5
}
